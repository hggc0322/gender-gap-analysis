{
 "cells": [
  {
   "cell_type": "code",
   "execution_count": 56,
   "metadata": {},
   "outputs": [],
   "source": [
    "from companies_house.api import CompaniesHouseAPI\n",
    "import pandas as pd \n",
    "\n",
    "# use hammock from https://github.com/kadirpekel/hammock\n",
    "from hammock import Hammock as GendreAPI\n",
    "gendre = GendreAPI(\"http://api.namsor.com/onomastics/api/json/gendre\")\n",
    "\n",
    "## define your api key\n",
    "ch = CompaniesHouseAPI(api_key)\n",
    "\n",
    "import time "
   ]
  },
  {
   "cell_type": "code",
   "execution_count": 57,
   "metadata": {},
   "outputs": [],
   "source": [
    "df_17_18 = pd.read_csv('data/UK Gender Pay Gap Data - 2017 to 2018 (1).csv')\n",
    "df_18_19 = pd.read_csv('data/UK Gender Pay Gap Data - 2018 to 2019 (1).csv')"
   ]
  },
  {
   "cell_type": "code",
   "execution_count": 87,
   "metadata": {},
   "outputs": [],
   "source": [
    "t1 = pd.read_csv('results/table1_companies.csv')\n",
    "t2  = pd.read_csv('results/table2_regions.csv')"
   ]
  },
  {
   "cell_type": "code",
   "execution_count": 88,
   "metadata": {},
   "outputs": [],
   "source": [
    "t1_id = t1.merge(df_17_18[['EmployerName', 'CompanyNumber']], how='left', \n",
    "                left_on = 'name', \n",
    "                right_on = 'EmployerName')"
   ]
  },
  {
   "cell_type": "code",
   "execution_count": 120,
   "metadata": {},
   "outputs": [],
   "source": [
    "company_cols = ['top_1', 'top_2', 'top_3', 'bottom_1', 'bottom_2', 'bottom_3']"
   ]
  },
  {
   "cell_type": "code",
   "execution_count": 122,
   "metadata": {},
   "outputs": [],
   "source": [
    "company_names= []\n",
    "for col in company_cols:\n",
    "    company_names.extend(t2[col].tolist())"
   ]
  },
  {
   "cell_type": "code",
   "execution_count": 125,
   "metadata": {},
   "outputs": [],
   "source": [
    "pd.DataFrame(company_names, columns=['company_name'])"
   ]
  },
  {
   "cell_type": "code",
   "execution_count": 127,
   "metadata": {},
   "outputs": [],
   "source": [
    "t1_id = companies.merge(df_17_18[['EmployerName', 'CompanyNumber']], how='left', \n",
    "                left_on = 'company_name', \n",
    "                right_on = 'EmployerName')"
   ]
  },
  {
   "cell_type": "code",
   "execution_count": 134,
   "metadata": {},
   "outputs": [
    {
     "name": "stdout",
     "output_type": "stream",
     "text": [
      "1 ASPIRATIONS ACADEMIES TRUST 0.8235294117647058\n",
      "2 STIFEL NICOLAUS EUROPE LIMITED 0.9285714285714286\n",
      "3 LONDON CITY BOND LIMITED 0.6666666666666666\n",
      "4 AECOM LIMITED 0.8333333333333334\n",
      "6 GSM LONDON LIMITED 0.7333333333333333\n",
      "7 CLOSE ASSET MANAGEMENT HOLDINGS LIMITED 0.8888888888888888\n",
      "8 N2 REALISATIONS LIMITED 0.8333333333333334\n",
      "9 CLESHAR CONTRACT SERVICES LIMITED 0.6428571428571429\n",
      "10 THE KEMNAL ACADEMIES TRUST 0.7272727272727273\n",
      "11 DULWICH PREPARATORY SCHOOLS TRUST 0.7931034482758621\n",
      "12 CAPITA RESOURCING LIMITED 0.6818181818181818\n",
      "13 CORDANT CLEANING LIMITED 0.7333333333333333\n",
      "14 J.P. BODEN & CO. LIMITED 0.8\n",
      "15 CIVICA UK LIMITED 0.7941176470588235\n",
      "16 FARFETCH UK LIMITED 1.0\n",
      "17 AXIS GROUP INTEGRATED SERVICES LIMITED 1.0\n",
      "18 ST. PAUL'S SCHOOL 0.7\n",
      "19 UPS LIMITED 0.8666666666666667\n"
     ]
    }
   ],
   "source": [
    "company_officers = {}\n",
    "\n",
    "i = 0 \n",
    "for counter, pk in enumerate(t1_id.CompanyNumber[t1_id.CompanyNumber.notna()][90:]): \n",
    "            \n",
    "    officers = ch.list_company_officers(company_number=pk)\n",
    "#     officers_names = []\n",
    "    males = 0\n",
    "    females = 0\n",
    "    frac_males= -1 \n",
    "    if officers: \n",
    "        i = i + 1\n",
    "        key = ch.get_company(pk)['company_name']\n",
    "        for item in officers['items']: \n",
    "#             officers_names.append(item['name'])\n",
    "            if len(item['name'].split(','))==2:\n",
    "                fn, ln = item['name'].split(',')\n",
    "                if gendre(fn,ln).GET().json().get('gender')=='male': \n",
    "                    males+=1\n",
    "                elif gendre(fn,ln).GET().json().get('gender')=='female': \n",
    "                    females+=1\n",
    "        if males:\n",
    "            frac_males = males/(males+females)\n",
    "            total_officers = males+females\n",
    "            company_officers[key] = [frac_males, total_officers]\n",
    "            print(i,key,frac_males)\n",
    "            \n",
    "    if counter%100==0:\n",
    "        with open('results/company_officers_132'+'.json', 'w') as fp:\n",
    "            json.dump(company_officers, fp)\n",
    "    time.sleep(1)\n",
    "                "
   ]
  },
  {
   "cell_type": "code",
   "execution_count": 135,
   "metadata": {},
   "outputs": [
    {
     "data": {
      "text/plain": [
       "{'ASPIRATIONS ACADEMIES TRUST': [0.8235294117647058, 17],\n",
       " 'STIFEL NICOLAUS EUROPE LIMITED': [0.9285714285714286, 28],\n",
       " 'LONDON CITY BOND LIMITED': [0.6666666666666666, 3],\n",
       " 'AECOM LIMITED': [0.8333333333333334, 30],\n",
       " 'GSM LONDON LIMITED': [0.7333333333333333, 15],\n",
       " 'CLOSE ASSET MANAGEMENT HOLDINGS LIMITED': [0.8888888888888888, 18],\n",
       " 'N2 REALISATIONS LIMITED': [0.8333333333333334, 6],\n",
       " 'CLESHAR CONTRACT SERVICES LIMITED': [0.6428571428571429, 14],\n",
       " 'THE KEMNAL ACADEMIES TRUST': [0.7272727272727273, 22],\n",
       " 'DULWICH PREPARATORY SCHOOLS TRUST': [0.7931034482758621, 29],\n",
       " 'CAPITA RESOURCING LIMITED': [0.6818181818181818, 22],\n",
       " 'CORDANT CLEANING LIMITED': [0.7333333333333333, 15],\n",
       " 'J.P. BODEN & CO. LIMITED': [0.8, 20],\n",
       " 'CIVICA UK LIMITED': [0.7941176470588235, 34],\n",
       " 'FARFETCH UK LIMITED': [1.0, 5],\n",
       " 'AXIS GROUP INTEGRATED SERVICES LIMITED': [1.0, 4],\n",
       " \"ST. PAUL'S SCHOOL\": [0.7, 20],\n",
       " 'UPS LIMITED': [0.8666666666666667, 30]}"
      ]
     },
     "execution_count": 135,
     "metadata": {},
     "output_type": "execute_result"
    }
   ],
   "source": [
    "company_officers"
   ]
  },
  {
   "cell_type": "code",
   "execution_count": 117,
   "metadata": {},
   "outputs": [],
   "source": [
    "cols = ['top_1','top_2','top_3','bottom_1','bottom_2','bottom_3']\n",
    "for col in cols:\n",
    "    frac_col = 'frac_' + col \n",
    "    t2[frac_col]= t2.apply(lambda row: company_officers[row[col]], axis=1)"
   ]
  },
  {
   "cell_type": "code",
   "execution_count": 136,
   "metadata": {},
   "outputs": [],
   "source": [
    "with open('results/company_officers_132.json', 'w') as fp:\n",
    "    json.dump(company_officers, fp)"
   ]
  },
  {
   "cell_type": "code",
   "execution_count": 137,
   "metadata": {},
   "outputs": [],
   "source": [
    "js1 = pd.read_json('results/company_officers_91.json')\n",
    "js2 = pd.read_json('results/company_officers_132.json')"
   ]
  },
  {
   "cell_type": "code",
   "execution_count": 144,
   "metadata": {},
   "outputs": [],
   "source": [
    "company_stats = {**js1.to_dict(),**js2.to_dict()}"
   ]
  },
  {
   "cell_type": "code",
   "execution_count": 151,
   "metadata": {},
   "outputs": [
    {
     "data": {
      "text/plain": [
       "0.416666666666666"
      ]
     },
     "execution_count": 151,
     "metadata": {},
     "output_type": "execute_result"
    }
   ],
   "source": [
    "company_stats['CHRISTIAN DIOR UK LIMITED'][0]"
   ]
  },
  {
   "cell_type": "code",
   "execution_count": 156,
   "metadata": {},
   "outputs": [],
   "source": [
    "company_stats.get('United Response')"
   ]
  },
  {
   "cell_type": "code",
   "execution_count": 157,
   "metadata": {},
   "outputs": [],
   "source": [
    "cols = ['top_1','top_2','top_3','bottom_1','bottom_2','bottom_3']\n",
    "for col in cols:\n",
    "    frac_col = 'frac_' + col \n",
    "    \n",
    "    t2[frac_col]= t2.apply(lambda row: company_stats[row[col]][0] if company_stats.get(row[col]) else -1, axis=1)"
   ]
  },
  {
   "cell_type": "code",
   "execution_count": 167,
   "metadata": {},
   "outputs": [],
   "source": [
    "t2.to_csv('results/table2_regions_addfracmale.csv', index=False)"
   ]
  },
  {
   "cell_type": "code",
   "execution_count": 111,
   "metadata": {},
   "outputs": [
    {
     "ename": "SyntaxError",
     "evalue": "can't assign to operator (<ipython-input-111-a661dee72053>, line 3)",
     "output_type": "error",
     "traceback": [
      "\u001b[0;36m  File \u001b[0;32m\"<ipython-input-111-a661dee72053>\"\u001b[0;36m, line \u001b[0;32m3\u001b[0m\n\u001b[0;31m    company_officers+'_'+str(counter) = {}\u001b[0m\n\u001b[0m    ^\u001b[0m\n\u001b[0;31mSyntaxError\u001b[0m\u001b[0;31m:\u001b[0m can't assign to operator\n"
     ]
    }
   ],
   "source": [
    "counter = 100\n",
    "if counter%100==0:\n",
    "    company_officers+'_'+str(counter)\n",
    "    "
   ]
  },
  {
   "cell_type": "code",
   "execution_count": 99,
   "metadata": {},
   "outputs": [
    {
     "data": {
      "text/plain": [
       "{'5 HERTFORD STREET LIMITED': 0.8333333333333334}"
      ]
     },
     "execution_count": 99,
     "metadata": {},
     "output_type": "execute_result"
    }
   ],
   "source": [
    "company_officers"
   ]
  },
  {
   "cell_type": "code",
   "execution_count": 93,
   "metadata": {},
   "outputs": [
    {
     "data": {
      "text/plain": [
       "['ALLY, Bibi Rahima',\n",
       " 'BIRLEY, Robin',\n",
       " 'GOLDSMITH, Benjamin James',\n",
       " 'REUBEN, James Adam',\n",
       " 'RICHARDSON, Clive Stuart',\n",
       " 'HORVATH, Christian Robert',\n",
       " 'ISAACS, David Andrew']"
      ]
     },
     "execution_count": 93,
     "metadata": {},
     "output_type": "execute_result"
    }
   ],
   "source": [
    "officers_names"
   ]
  },
  {
   "cell_type": "code",
   "execution_count": 95,
   "metadata": {},
   "outputs": [],
   "source": [
    "fn, ln = item['name'].split(',')"
   ]
  },
  {
   "cell_type": "code",
   "execution_count": 97,
   "metadata": {},
   "outputs": [
    {
     "data": {
      "text/plain": [
       "'male'"
      ]
     },
     "execution_count": 97,
     "metadata": {},
     "output_type": "execute_result"
    }
   ],
   "source": [
    "gendre(fn,ln).GET().json().get('gender')"
   ]
  },
  {
   "cell_type": "code",
   "execution_count": null,
   "metadata": {},
   "outputs": [],
   "source": []
  }
 ],
 "metadata": {
  "kernelspec": {
   "display_name": "Python 3",
   "language": "python",
   "name": "python3"
  },
  "language_info": {
   "codemirror_mode": {
    "name": "ipython",
    "version": 3
   },
   "file_extension": ".py",
   "mimetype": "text/x-python",
   "name": "python",
   "nbconvert_exporter": "python",
   "pygments_lexer": "ipython3",
   "version": "3.6.6"
  }
 },
 "nbformat": 4,
 "nbformat_minor": 2
}
